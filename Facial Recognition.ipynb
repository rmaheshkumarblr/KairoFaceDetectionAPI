{
 "cells": [
  {
   "cell_type": "code",
   "execution_count": 29,
   "metadata": {
    "collapsed": true
   },
   "outputs": [],
   "source": [
    "import requests\n",
    "import json\n",
    "\n",
    "def get_attributes(image_url):\n",
    "    headers = {\"Content-Type\": \"application/json\", \"app_id\": app_id, \"app_key\": app_key}\n",
    "    payload = {\"image\": image_url , \"selector\": \"ROLL\", \"minHeadScale\":\".015\"}\n",
    "    r = requests.post(\"https://api.kairos.com/detect\", data=json.dumps(payload), headers=headers)\n",
    "    persons = []\n",
    "    for face in json.loads(r.content)['images'][0]['faces']:\n",
    "        person = {}\n",
    "        person['maleConfidence'] = face['attributes']['gender']['maleConfidence']\n",
    "        person['femaleConfidence'] = face['attributes']['gender']['femaleConfidence']\n",
    "        person['white'] = face['attributes']['white']\n",
    "        person['asian'] = face['attributes']['asian']\n",
    "        person['black'] = face['attributes']['black']\n",
    "        person['other'] = face['attributes']['other']\n",
    "        person['hispanic'] = face['attributes']['hispanic']\n",
    "        persons.append(person)\n",
    "    return persons\n",
    "\n",
    "images_url_list = [\"https://scontent-lga3-1.cdninstagram.com/t51.2885-15/sh0.08/e35/p640x640/14717462_323320751371900_3534421200258203648_n.jpg\",\"https://scontent.fapa1-1.fna.fbcdn.net/v/t31.0-8/18208931_10155625846983132_8209743382517346954_o.jpg?oh=b291292204029887db899e9f99041327&oe=5A5B5F56\"]\n",
    "\n",
    "for image_url in images_url_list:\n",
    "    print \"Image Url: \", image_url , \"\\n\"\n",
    "    print \"Persons:\\n\"\n",
    "    for person in get_attributes(image_url):\n",
    "        print person , \"\\n\""
   ]
  }
 ],
 "metadata": {
  "kernelspec": {
   "display_name": "Python 2",
   "language": "python",
   "name": "python2"
  },
  "language_info": {
   "codemirror_mode": {
    "name": "ipython",
    "version": 2
   },
   "file_extension": ".py",
   "mimetype": "text/x-python",
   "name": "python",
   "nbconvert_exporter": "python",
   "pygments_lexer": "ipython2",
   "version": "2.7.11"
  }
 },
 "nbformat": 4,
 "nbformat_minor": 0
}
